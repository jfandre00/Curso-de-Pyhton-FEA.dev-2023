{
 "cells": [
  {
   "cell_type": "code",
   "execution_count": 1,
   "id": "c5ae4c28",
   "metadata": {},
   "outputs": [
    {
     "data": {
      "text/plain": [
       "3"
      ]
     },
     "execution_count": 1,
     "metadata": {},
     "output_type": "execute_result"
    }
   ],
   "source": [
    "20 // 6"
   ]
  },
  {
   "cell_type": "code",
   "execution_count": 2,
   "id": "83ef2fff",
   "metadata": {},
   "outputs": [
    {
     "data": {
      "text/plain": [
       "27"
      ]
     },
     "execution_count": 2,
     "metadata": {},
     "output_type": "execute_result"
    }
   ],
   "source": [
    "3**3"
   ]
  },
  {
   "cell_type": "code",
   "execution_count": 3,
   "id": "480603fc",
   "metadata": {},
   "outputs": [
    {
     "data": {
      "text/plain": [
       "2.0"
      ]
     },
     "execution_count": 3,
     "metadata": {},
     "output_type": "execute_result"
    }
   ],
   "source": [
    "4**1/2"
   ]
  },
  {
   "cell_type": "code",
   "execution_count": 4,
   "id": "7e9d22f8",
   "metadata": {},
   "outputs": [
    {
     "data": {
      "text/plain": [
       "2.0"
      ]
     },
     "execution_count": 4,
     "metadata": {},
     "output_type": "execute_result"
    }
   ],
   "source": [
    "8/4"
   ]
  },
  {
   "cell_type": "code",
   "execution_count": 5,
   "id": "9804a06a",
   "metadata": {},
   "outputs": [
    {
     "data": {
      "text/plain": [
       "False"
      ]
     },
     "execution_count": 5,
     "metadata": {},
     "output_type": "execute_result"
    }
   ],
   "source": [
    "6 <  5"
   ]
  },
  {
   "cell_type": "code",
   "execution_count": 6,
   "id": "7bd236fc",
   "metadata": {},
   "outputs": [
    {
     "data": {
      "text/plain": [
       "True"
      ]
     },
     "execution_count": 6,
     "metadata": {},
     "output_type": "execute_result"
    }
   ],
   "source": [
    "19 == 18 + 2 - 1"
   ]
  },
  {
   "cell_type": "code",
   "execution_count": 7,
   "id": "216be86c",
   "metadata": {},
   "outputs": [
    {
     "data": {
      "text/plain": [
       "True"
      ]
     },
     "execution_count": 7,
     "metadata": {},
     "output_type": "execute_result"
    }
   ],
   "source": [
    "19 != 18"
   ]
  },
  {
   "cell_type": "code",
   "execution_count": 14,
   "id": "2ed880d2",
   "metadata": {},
   "outputs": [
    {
     "name": "stdout",
     "output_type": "stream",
     "text": [
      "3\n"
     ]
    }
   ],
   "source": [
    "print(1*3)"
   ]
  },
  {
   "cell_type": "code",
   "execution_count": 28,
   "id": "4b590a4a",
   "metadata": {},
   "outputs": [
    {
     "name": "stdout",
     "output_type": "stream",
     "text": [
      "Hello, World!\n"
     ]
    }
   ],
   "source": [
    "print(\"Hello, World!\")"
   ]
  },
  {
   "cell_type": "code",
   "execution_count": 35,
   "id": "66b4d470",
   "metadata": {},
   "outputs": [
    {
     "name": "stdout",
     "output_type": "stream",
     "text": [
      "Hello World\n"
     ]
    }
   ],
   "source": [
    "x = \"Hello \"\n",
    "y = \"World\"\n",
    "print(x + y)"
   ]
  },
  {
   "cell_type": "code",
   "execution_count": 39,
   "id": "36bb9cf7",
   "metadata": {},
   "outputs": [
    {
     "data": {
      "text/plain": [
       "'v'"
      ]
     },
     "execution_count": 39,
     "metadata": {},
     "output_type": "execute_result"
    }
   ],
   "source": [
    "#Selecionando o primeiro caractere - no caso o caractere 0\n",
    "string = \"Bem vindos ao curso de Python do Fea.dev!\"\n",
    "string[4]"
   ]
  },
  {
   "cell_type": "code",
   "execution_count": 40,
   "id": "0612ee09",
   "metadata": {},
   "outputs": [
    {
     "data": {
      "text/plain": [
       "'!'"
      ]
     },
     "execution_count": 40,
     "metadata": {},
     "output_type": "execute_result"
    }
   ],
   "source": [
    "# Podemos também acessar de trás para frente, sendo o último caractere -1 e assim por diante\n",
    "string[-1]"
   ]
  },
  {
   "cell_type": "code",
   "execution_count": 41,
   "id": "a8843e66",
   "metadata": {},
   "outputs": [
    {
     "data": {
      "text/plain": [
       "'e'"
      ]
     },
     "execution_count": 41,
     "metadata": {},
     "output_type": "execute_result"
    }
   ],
   "source": [
    "string[-3]"
   ]
  },
  {
   "cell_type": "code",
   "execution_count": 42,
   "id": "9daa30fa",
   "metadata": {},
   "outputs": [
    {
     "data": {
      "text/plain": [
       "'vindos'"
      ]
     },
     "execution_count": 42,
     "metadata": {},
     "output_type": "execute_result"
    }
   ],
   "source": [
    "# Para selecionar blocos de caracteres utilizando ':':\n",
    "# Repare que o começo da seleção inclui o número inicial e exclui o final, ou seja,\n",
    "# selecionando [4:10] obtemos os caracteres 4 ao 9\n",
    "string[4:10]"
   ]
  },
  {
   "cell_type": "code",
   "execution_count": 43,
   "id": "b2ab4e85",
   "metadata": {},
   "outputs": [
    {
     "data": {
      "text/plain": [
       "'curso de Python do Fea.dev!'"
      ]
     },
     "execution_count": 43,
     "metadata": {},
     "output_type": "execute_result"
    }
   ],
   "source": [
    "# Para selecionar de um ponto até o final ou começo, basta usar o número desejado e dois pontos:\n",
    "# Pegando de 14 até o final\n",
    "string[14:]"
   ]
  },
  {
   "cell_type": "markdown",
   "id": "e09a9787",
   "metadata": {},
   "source": [
    "### Métodos de Strings\n",
    "As strings oferecem métodos que executam várias operações úteis. Métodos são comandos colocados ao final da string para realizar determinadas ações e modificações\n",
    "Dentre os principais métodos aplicáveis a strings e suas funcionalidades podemos citar:\n",
    "   1. **exemplo.upper()**: devolve a string 'exemplo' toda em letras maiúsculas\n",
    "   2. **exemplo.lower()**: toda em minúsculas\n",
    "   3. **exemplo.strip()**: devolve a string 'exemplo' retirando possíveis espaços em branco no início e no fim da string\n",
    "   4. **exemplo.startswith('xyz')**: testa se 'exemplo' começa com a string 'xyz'\n",
    "   5. **exemplo.endswith('xyz')**: se termina com 'xyz'\n",
    "   6. **exemplo.find('xyz')**: procura a string 'xyz' dentro de 'exemplo' e retorna o primeiro índice onde 'xyz' começa ou retorna -1 se nada for encontrado\n",
    "   7. **exemplo.replace('old','new')**: retorna uma string nova onde todas as ocorrências de 'old' encontradas em 'exemplo' serão substituidas por 'new'."
   ]
  },
  {
   "cell_type": "code",
   "execution_count": 44,
   "id": "ab070257",
   "metadata": {},
   "outputs": [
    {
     "data": {
      "text/plain": [
       "'EXEMPLO'"
      ]
     },
     "execution_count": 44,
     "metadata": {},
     "output_type": "execute_result"
    }
   ],
   "source": [
    "#Upper\n",
    "exemplo =  \"exemplo\"\n",
    "exemplo.upper()"
   ]
  },
  {
   "cell_type": "code",
   "execution_count": 45,
   "id": "d0e13e22",
   "metadata": {},
   "outputs": [
    {
     "data": {
      "text/plain": [
       "'exemplo'"
      ]
     },
     "execution_count": 45,
     "metadata": {},
     "output_type": "execute_result"
    }
   ],
   "source": [
    "#Lower\n",
    "exemplo = \"ExeMPLo\"\n",
    "exemplo.lower()"
   ]
  },
  {
   "cell_type": "code",
   "execution_count": 46,
   "id": "00ec7265",
   "metadata": {},
   "outputs": [
    {
     "data": {
      "text/plain": [
       "'exemplo'"
      ]
     },
     "execution_count": 46,
     "metadata": {},
     "output_type": "execute_result"
    }
   ],
   "source": [
    "#Strip\n",
    "exemplo = \"               exemplo      \"\n",
    "exemplo.strip()"
   ]
  },
  {
   "cell_type": "code",
   "execution_count": 47,
   "id": "daf71fe1",
   "metadata": {},
   "outputs": [
    {
     "data": {
      "text/plain": [
       "'Programar é muito bom'"
      ]
     },
     "execution_count": 47,
     "metadata": {},
     "output_type": "execute_result"
    }
   ],
   "source": [
    "exemplo2 = \"Programar é muito chato\"\n",
    "exemplo2.replace('chato', 'bom')"
   ]
  },
  {
   "cell_type": "code",
   "execution_count": 50,
   "id": "a4930d7d",
   "metadata": {},
   "outputs": [
    {
     "data": {
      "text/plain": [
       "'Programar é muito chatoexemplo'"
      ]
     },
     "execution_count": 50,
     "metadata": {},
     "output_type": "execute_result"
    }
   ],
   "source": [
    "exemplo2 + exemplo.strip()"
   ]
  },
  {
   "cell_type": "markdown",
   "id": "554fddb1",
   "metadata": {},
   "source": [
    "## Imput e  Output\n",
    "\n",
    "### Veremos agora como utilizar informações externas no seu código!\n",
    "\n",
    "Para perguntar informações para o usuário, utiliza-se a função \"input()\""
   ]
  },
  {
   "cell_type": "code",
   "execution_count": 52,
   "id": "00b80c56",
   "metadata": {},
   "outputs": [
    {
     "name": "stdout",
     "output_type": "stream",
     "text": [
      "Como você está? Bem, e você?\n"
     ]
    },
    {
     "data": {
      "text/plain": [
       "'Bem, e você?'"
      ]
     },
     "execution_count": 52,
     "metadata": {},
     "output_type": "execute_result"
    }
   ],
   "source": [
    "# O string colocado dentro da função será exibido como mensagem para o usuário\n",
    "input(\"Como você está? \")"
   ]
  },
  {
   "cell_type": "code",
   "execution_count": 57,
   "id": "be5502a4",
   "metadata": {},
   "outputs": [
    {
     "name": "stdout",
     "output_type": "stream",
     "text": [
      "Quantos anos voce tem? \n",
      "20\n",
      "Você possui 20 anos, que legal!\n",
      "Você possui 20 anos, que legal!\n"
     ]
    }
   ],
   "source": [
    "idade = input(\"Quantos anos voce tem? \\n\") \n",
    "# \\n é para pular uma linha\n",
    "\n",
    "# Duas maneiras de colocar variáveis com strings em prints:\n",
    "\n",
    "print(\"Você possui\", idade, \"anos, que legal!\")\n",
    "print(f'Você possui {idade} anos, que legal!')"
   ]
  },
  {
   "cell_type": "markdown",
   "id": "bd220e6b",
   "metadata": {},
   "source": [
    "**f-strings**\n",
    "\n",
    "Esta string neste último print que você viu é chamado f-string. Ao colocar um f na frente, você pode adicionar variáveis, operações, fórmulas e métodos dentro de {} nas strings!"
   ]
  },
  {
   "cell_type": "code",
   "execution_count": 61,
   "id": "c63e8e29",
   "metadata": {},
   "outputs": [
    {
     "name": "stdout",
     "output_type": "stream",
     "text": [
      "Tomei incríveis 27 xícaras de café CAFÉ!!!!!!!!!\n"
     ]
    }
   ],
   "source": [
    "a = 3\n",
    "b = 9\n",
    "bebida = \"café\"\n",
    "\n",
    "f_string = f\"Tomei incríveis {a*b} xícaras de café {bebida.upper() + b*'!'}\"\n",
    "print(f_string)"
   ]
  },
  {
   "cell_type": "markdown",
   "id": "8ed8825e",
   "metadata": {},
   "source": [
    "# Extra\n",
    "**Apenas alguns spoilers do que você logo vai conseguir fazer! Loops e condicionais na próxima semana**"
   ]
  },
  {
   "cell_type": "code",
   "execution_count": 64,
   "id": "89badef2",
   "metadata": {},
   "outputs": [
    {
     "name": "stdout",
     "output_type": "stream",
     "text": [
      "Pretende tomar cachaça? Responda Sim ou Não : \n",
      "Não\n",
      "Aproveite, continue assim!\n"
     ]
    }
   ],
   "source": [
    "while True:\n",
    "    intencao = input(\"Pretende tomar cachaça? Responda Sim ou Não : \\n\")\n",
    "    if intencao == 'Sim' :\n",
    "        idade = int(input('Qual sua idade? \\n'))\n",
    "        if idade >= 18:\n",
    "            print(\"Sem problemas, pode tomar todas!\")\n",
    "            break\n",
    "        else:\n",
    "            print('Melhor não, seu DE MENOR!')\n",
    "            continue\n",
    "    elif intencao == 'Não':\n",
    "        print('Aproveite, continue assim!')\n",
    "        break\n",
    "    else:\n",
    "        print('Não entendi...')\n",
    "        continue\n",
    "            \n",
    "        "
   ]
  },
  {
   "cell_type": "code",
   "execution_count": null,
   "id": "97142b2b",
   "metadata": {},
   "outputs": [],
   "source": []
  },
  {
   "cell_type": "code",
   "execution_count": null,
   "id": "7d3df894",
   "metadata": {},
   "outputs": [],
   "source": []
  }
 ],
 "metadata": {
  "kernelspec": {
   "display_name": "Python 3 (ipykernel)",
   "language": "python",
   "name": "python3"
  },
  "language_info": {
   "codemirror_mode": {
    "name": "ipython",
    "version": 3
   },
   "file_extension": ".py",
   "mimetype": "text/x-python",
   "name": "python",
   "nbconvert_exporter": "python",
   "pygments_lexer": "ipython3",
   "version": "3.11.4"
  }
 },
 "nbformat": 4,
 "nbformat_minor": 5
}
