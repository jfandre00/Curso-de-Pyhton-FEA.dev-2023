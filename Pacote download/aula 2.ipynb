{
 "cells": [
  {
   "cell_type": "markdown",
   "id": "98ddfd45",
   "metadata": {},
   "source": [
    "# Testando essa merda"
   ]
  },
  {
   "cell_type": "markdown",
   "id": "ca6fe3b3",
   "metadata": {},
   "source": [
    "Primeiro exercício no Jupyter Notebook"
   ]
  },
  {
   "cell_type": "code",
   "execution_count": 1,
   "id": "d65daf3f",
   "metadata": {},
   "outputs": [
    {
     "name": "stdout",
     "output_type": "stream",
     "text": [
      "Fala, mano, blz??\n"
     ]
    }
   ],
   "source": [
    "print(\"Fala, mano, blz??\")"
   ]
  },
  {
   "cell_type": "code",
   "execution_count": 8,
   "id": "67748b0a",
   "metadata": {},
   "outputs": [
    {
     "name": "stdout",
     "output_type": "stream",
     "text": [
      "Bem Vindos a aula 2!\n"
     ]
    }
   ],
   "source": [
    "print(\"Bem Vindos a aula 2!\")"
   ]
  },
  {
   "cell_type": "code",
   "execution_count": 9,
   "id": "8ef4c7c9",
   "metadata": {},
   "outputs": [
    {
     "name": "stdout",
     "output_type": "stream",
     "text": [
      "Bem Vindas a aula 2!\n"
     ]
    }
   ],
   "source": [
    "print(\"Bem Vindas a aula 2!\")"
   ]
  },
  {
   "cell_type": "code",
   "execution_count": 10,
   "id": "5fa70951",
   "metadata": {},
   "outputs": [],
   "source": [
    "import random \n",
    "random.randint?"
   ]
  },
  {
   "cell_type": "code",
   "execution_count": 11,
   "id": "f6e61b80",
   "metadata": {},
   "outputs": [],
   "source": [
    "num = 5"
   ]
  },
  {
   "cell_type": "code",
   "execution_count": 12,
   "id": "0ffac36d",
   "metadata": {},
   "outputs": [],
   "source": [
    "num = num + 3"
   ]
  },
  {
   "cell_type": "code",
   "execution_count": 13,
   "id": "06ef7355",
   "metadata": {},
   "outputs": [],
   "source": [
    "num = num * 2"
   ]
  },
  {
   "cell_type": "code",
   "execution_count": 14,
   "id": "49010fc5",
   "metadata": {},
   "outputs": [
    {
     "name": "stdout",
     "output_type": "stream",
     "text": [
      "16\n"
     ]
    }
   ],
   "source": [
    "print(num)"
   ]
  },
  {
   "cell_type": "markdown",
   "id": "cae6c83b",
   "metadata": {},
   "source": [
    "# Opa Que Merda\n",
    "\n",
    "## Opa que merdinha\n",
    "\n",
    "### Opa que merdinha menor ainda!\n",
    "\n",
    "* a bola é azul\n",
    "* o cachorro gosta de comer banana\n",
    "\n",
    "a *casa* é amarela\n",
    "\n",
    "o **cavalo** come grama\n",
    "\n"
   ]
  },
  {
   "cell_type": "code",
   "execution_count": null,
   "id": "57430cf6",
   "metadata": {},
   "outputs": [],
   "source": []
  }
 ],
 "metadata": {
  "kernelspec": {
   "display_name": "Python 3 (ipykernel)",
   "language": "python",
   "name": "python3"
  },
  "language_info": {
   "codemirror_mode": {
    "name": "ipython",
    "version": 3
   },
   "file_extension": ".py",
   "mimetype": "text/x-python",
   "name": "python",
   "nbconvert_exporter": "python",
   "pygments_lexer": "ipython3",
   "version": "3.11.4"
  }
 },
 "nbformat": 4,
 "nbformat_minor": 5
}
