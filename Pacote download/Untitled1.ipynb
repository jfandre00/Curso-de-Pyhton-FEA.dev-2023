{
 "cells": [
  {
   "cell_type": "code",
   "execution_count": 1,
   "id": "d8242718",
   "metadata": {},
   "outputs": [
    {
     "name": "stdout",
     "output_type": "stream",
     "text": [
      "<class 'int'>\n",
      "<class 'float'>\n",
      "<class 'float'>\n"
     ]
    }
   ],
   "source": [
    "# Exemplo 1 - Inteiro e Float\n",
    "a = 5\n",
    "b = 6.552\n",
    "c = -5.0\n",
    "\n",
    "# A função type() verifica qual é o tipo de dado da variável\n",
    "print(type(a))\n",
    "print(type(b))\n",
    "print(type(c))"
   ]
  },
  {
   "cell_type": "markdown",
   "id": "26f63996",
   "metadata": {},
   "source": [
    "Operações com inteiros e floats:"
   ]
  },
  {
   "cell_type": "code",
   "execution_count": 2,
   "id": "4cc7d3c0",
   "metadata": {},
   "outputs": [
    {
     "name": "stdout",
     "output_type": "stream",
     "text": [
      "10.0\n",
      "<class 'float'>\n",
      "<class 'int'>\n",
      "<class 'float'>\n"
     ]
    }
   ],
   "source": [
    "# Exemplo 2 - Função type()\n",
    "\n",
    "d = 5 + 5.0\n",
    "e = 2*3\n",
    "f = 4**(1/2)\n",
    "print(d)\n",
    "print(type(d))\n",
    "print(type(e))\n",
    "print(type(f))"
   ]
  },
  {
   "cell_type": "markdown",
   "id": "9b6a405e",
   "metadata": {},
   "source": [
    "**String (str):** Junção de caracteres usualmente utilizada para representar palavras, mas não necessariamente apenas palavras, pois pode existir string de números. São definidas por aspas simples ou duplas. Objetos imutáveis"
   ]
  },
  {
   "cell_type": "code",
   "execution_count": 3,
   "id": "2a7e935a",
   "metadata": {},
   "outputs": [],
   "source": [
    "# Exemplo 3 - Algumas strings\n",
    "\n",
    "palavra = 'Olá, mundo!'\n",
    "numero = '1550'\n"
   ]
  },
  {
   "cell_type": "code",
   "execution_count": 5,
   "id": "bdd9548e",
   "metadata": {},
   "outputs": [
    {
     "name": "stdout",
     "output_type": "stream",
     "text": [
      "[14, 2, 9.2, 13.6, 14]\n"
     ]
    }
   ],
   "source": [
    "new_list = [14, 2, 9.2, 13.6, 14]\n",
    "print(new_list)"
   ]
  },
  {
   "cell_type": "code",
   "execution_count": 7,
   "id": "ae952ccb",
   "metadata": {},
   "outputs": [
    {
     "name": "stdout",
     "output_type": "stream",
     "text": [
      "[2, 9.2, 13.6]\n"
     ]
    }
   ],
   "source": [
    "new_list.remove(14)\n",
    "print(new_list)"
   ]
  },
  {
   "cell_type": "code",
   "execution_count": null,
   "id": "43f6cc49",
   "metadata": {},
   "outputs": [],
   "source": []
  }
 ],
 "metadata": {
  "kernelspec": {
   "display_name": "Python 3 (ipykernel)",
   "language": "python",
   "name": "python3"
  },
  "language_info": {
   "codemirror_mode": {
    "name": "ipython",
    "version": 3
   },
   "file_extension": ".py",
   "mimetype": "text/x-python",
   "name": "python",
   "nbconvert_exporter": "python",
   "pygments_lexer": "ipython3",
   "version": "3.11.4"
  }
 },
 "nbformat": 4,
 "nbformat_minor": 5
}
