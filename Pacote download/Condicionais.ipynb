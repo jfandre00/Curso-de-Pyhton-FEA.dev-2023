{
 "cells": [
  {
   "cell_type": "markdown",
   "id": "6983505a",
   "metadata": {},
   "source": [
    "Condicionais\n",
    "\n",
    "operadores aritméticos são + - * / // % **\n",
    "operadores de comparação são > >= < <= == !=\n",
    "operadores lógicos são and or not\n",
    "operadores de identidade são is , is not\n",
    "operadores de associação são in , not in\n",
    "como usar as condicionais com os comandos if, elif e else\n",
    "\n",
    "\n",
    "\n",
    "\n",
    "As condicionais são entrelaçadas com a lógica da programação, pois você executa comandos a partir de condições que são atribuídas de acordo com as variáveis estabelecidas\n",
    "Exemplo:"
   ]
  },
  {
   "cell_type": "code",
   "execution_count": 31,
   "id": "a3c4b3e7",
   "metadata": {},
   "outputs": [
    {
     "name": "stdout",
     "output_type": "stream",
     "text": [
      "digite sua idade18\n",
      "você é maior de idade\n"
     ]
    }
   ],
   "source": [
    "#float\n",
    "\n",
    "idade = float(input(f'digite sua idade'))\n",
    "if idade >= 18:\n",
    "    print('você é maior de idade')\n",
    "else:\n",
    "    print('você é menor de idade')"
   ]
  },
  {
   "cell_type": "code",
   "execution_count": 5,
   "id": "b1f48cb5",
   "metadata": {},
   "outputs": [
    {
     "name": "stdout",
     "output_type": "stream",
     "text": [
      "digite sua senhaFeaDevTop123\n",
      "acesso liberado\n"
     ]
    }
   ],
   "source": [
    "#string\n",
    "\n",
    "senha = 'FeaDevTop123'\n",
    "senha2 = input(f'digite sua senha')\n",
    "if senha2 == senha:\n",
    "    print('acesso liberado')\n",
    "else:\n",
    "    print('acesso negado')"
   ]
  },
  {
   "cell_type": "code",
   "execution_count": 9,
   "id": "98909d5a",
   "metadata": {},
   "outputs": [
    {
     "name": "stdout",
     "output_type": "stream",
     "text": [
      "sou descolado\n"
     ]
    }
   ],
   "source": [
    "#boleano\n",
    "\n",
    "CurtoPrograma = True\n",
    "if CurtoPrograma:\n",
    "    print('sou descolado')\n",
    "else:\n",
    "    print('sou boçal')"
   ]
  },
  {
   "cell_type": "markdown",
   "id": "4cfa1d23",
   "metadata": {},
   "source": [
    "Como funciona uma condicional? -> Deixe um recado (1) / SE você não me encontrar em casa (2)\n",
    "\n",
    "Manifesta uma condição sob a qual se efetua o processo expresso pelo verbo da oração principal\n",
    "\n",
    "1 - oração principal\n",
    "2 - oração subordinada"
   ]
  },
  {
   "cell_type": "code",
   "execution_count": 11,
   "id": "71e2f3a1",
   "metadata": {},
   "outputs": [
    {
     "name": "stdout",
     "output_type": "stream",
     "text": [
      "0\n"
     ]
    }
   ],
   "source": [
    "Estouemcasa = True\n",
    "CaixaPostal = 0\n",
    "if Estouemcasa == False:\n",
    "    CaixaPostal = CaixaPostal + 1\n",
    "print(CaixaPostal)"
   ]
  },
  {
   "cell_type": "code",
   "execution_count": 13,
   "id": "181e21d4",
   "metadata": {},
   "outputs": [
    {
     "name": "stdout",
     "output_type": "stream",
     "text": [
      "1\n"
     ]
    }
   ],
   "source": [
    "Estouemcasa = False\n",
    "CaixaPostal = 0\n",
    "if Estouemcasa == False:\n",
    "    CaixaPostal = CaixaPostal + 1\n",
    "print(CaixaPostal)"
   ]
  },
  {
   "cell_type": "markdown",
   "id": "d7391de6",
   "metadata": {},
   "source": [
    "A condição é verdadeira? Se Sim -> Bloco de comandos a serem executados sob condição verdadeira\n",
    "                         Se Não -> Bloco opcional de comandos a serem executados sob condição falsa\n",
    "                   Continuação do Código\n",
    "                   \n",
    "3. Operadores aritméticos\n",
    "adição + \n",
    "subtração - \n",
    "multiplicação * \n",
    "divisão / \n",
    "divisão inteira // \n",
    "resto da divisão % \n",
    "potência **\n",
    "\n",
    "4. Operadores comparativos:\n",
    "Maior >\n",
    "Menor <\n",
    "Maior ou igual >=\n",
    "Menor ou igual <=\n",
    "Igual ==\n",
    "Não Igual !=\n",
    "\n",
    "5. Operadores Lógicos\n",
    "\n",
    "Or: ou (inclusivo, um, o outro ou os 2) -> União dos Conjuntos\n",
    "\n",
    "And: E (tem que ser os 2) -> Intersecção dos Conjuntos\n",
    "\n",
    "Not: negação (inverte o valor lógico de uma expressão)\n"
   ]
  },
  {
   "cell_type": "code",
   "execution_count": 33,
   "id": "ba949f83",
   "metadata": {},
   "outputs": [
    {
     "name": "stdout",
     "output_type": "stream",
     "text": [
      "9\n",
      "4\n",
      "2\n",
      "27\n",
      "2.0\n"
     ]
    }
   ],
   "source": [
    "Multiplicação = 3*3\n",
    "DivInt = 30//7\n",
    "Resto = 30%7\n",
    "Potência = 3**3\n",
    "Radiaciação = 4**(1/2)\n",
    "\n",
    "print(Multiplicação)\n",
    "print(DivInt)\n",
    "print(Resto)\n",
    "print(Potência)\n",
    "print(Radiaciação)"
   ]
  },
  {
   "cell_type": "code",
   "execution_count": null,
   "id": "3a0e28db",
   "metadata": {},
   "outputs": [],
   "source": [
    "#um quadrado no plano cartesiano -> pontos (x,y) : (0,0) (0,1) (1,0) (1,1)\n",
    "\n",
    "# Usando o AND\n",
    "\n",
    "# (0<= X) and (X <= 1) and (0 <= Y) and (Y <= 1)\n",
    "\n",
    "# Usando o OR e o NOT\n",
    "\n",
    "# not ((X<0) or (X>1) or (Y<0) or (Y>1))\n"
   ]
  },
  {
   "cell_type": "markdown",
   "id": "a5ba59ee",
   "metadata": {},
   "source": [
    "Operadores de associação -> in, not in\n",
    "servem para trabalhar com um conjunto de informações, como listas, tuplas, dicionários e até strings. Eles verificam se uma variável está, ou não está em determinada sequência de valores.\n",
    "\n",
    "Operadores de identidade ->  is, is not\n",
    "servem para verificar se 2 objetos tem a mesma identidade, ou seja, se ocupam o mesmo espaço de memória\n",
    "\n",
    "if, elif e else\n",
    "são a forma como as condicionais são escritas em Python. Ao usar o if, você atribui uma condição \"if (condição) e depois comandos a serem executados caso a condição seja verdadeira.\n",
    "\n"
   ]
  },
  {
   "cell_type": "markdown",
   "id": "2f71adae",
   "metadata": {},
   "source": [
    "#**Uso do if, elif e else**\n",
    "\n",
    "if(condição):\n",
    "    comando1\n",
    "    comando2\n",
    "    ...\n",
    "continuação do código\n",
    "\n",
    "# O elif pode ser atribuído como uma condição do código caso aquela condição não seja verdadeira. Você atribui outra condição, que não aquela, e o computador verificar se é verdadeira e executa os comandos desejados.\n",
    "\n",
    "elif(condição):\n",
    "    comando1\n",
    "    comando2\n",
    "    ...\n",
    "continuação do código\n",
    "\n",
    "#pode usar mais de 1 elif seguindo a lógica\n",
    "\n",
    "# O else, diferentemente do elif, engloba tudo que não seja as condições antes estabelecidas pelo if e elif e executa os comandos desejadps nos casos em que as outras condições não sejam verdadeiras. \n",
    "\n",
    "\n",
    "else:\n",
    "    comando1\n",
    "    comando2\n",
    "    ...\n",
    "continuação do código\n",
    "\n",
    "\n",
    "## Teste Expression of IF - se falso ELIF - Teste Expression ELIF - se verdade - Body of elif - se faso - Body of else\n",
    "                        #   se true body of if\n",
    "                        # fim do código\n",
    "\n",
    "\n",
    "***Exemplos / exercícios\n",
    "O usuário vai digitar 3 números a,b e c. Precisamos imprimir os números em ordem descrescente. Como escrever o código?\n"
   ]
  },
  {
   "cell_type": "code",
   "execution_count": 35,
   "id": "c715aa36",
   "metadata": {},
   "outputs": [
    {
     "name": "stdout",
     "output_type": "stream",
     "text": [
      "digite um número7\n",
      "digite outro número6\n",
      "digite outro número9\n",
      "9.0 >= 7.0 >= 6.0\n",
      "9.0 7.0 6.0\n"
     ]
    }
   ],
   "source": [
    "# as situações são:\n",
    "#1 a >= b >= c\n",
    "#2 a >= c >= b\n",
    "#3 b >= a >= c\n",
    "#4 b >= c >= a\n",
    "#5 c >= b >= a\n",
    "#6 c >= a >= b\n",
    "\n",
    "a = float(input(f'digite um número'))\n",
    "b = float(input(f'digite outro número'))\n",
    "c = float(input(f'digite outro número'))\n",
    "\n",
    "if a >=  b:\n",
    "    if b >= c:\n",
    "        print(f\"{a} >= {b} >= {c}\")\n",
    "    elif a >= c:\n",
    "        print(f\"{a} >= {c} >= {b}\")\n",
    "    #o que sobrou foi o c maior igual a >= b\n",
    "    else:  \n",
    "        print(f\"{c} >= {a} >= {b}\")\n",
    "else:\n",
    "    if a >= c:\n",
    "        print(f\"{b} >= {a} >= {c}\")\n",
    "    elif b >= c:\n",
    "        print(f\"{b} >= {c} >= {a}\")\n",
    "    else:\n",
    "        print(f\"{c} >= {b} >= {a}\")\n",
    "    \n",
    "#forma direta de resolver   \n",
    "    \n",
    "if a >= b >= c:\n",
    "    print(a, b, c)\n",
    "elif a >= c >= b:\n",
    "    print(a, c, b)\n",
    "elif b >= a >= c:\n",
    "    print(b, a, c)\n",
    "elif b >= c >= a:\n",
    "    print(b, c, a)\n",
    "elif c >= a >= b:\n",
    "    print(c, a, b)\n",
    "else:\n",
    "    print(c, b, a)\n",
    "        "
   ]
  },
  {
   "cell_type": "code",
   "execution_count": 40,
   "id": "b5aa409f",
   "metadata": {},
   "outputs": [
    {
     "name": "stdout",
     "output_type": "stream",
     "text": [
      "Digite sua renda mensal em reais: 2000\n",
      "Seu Imposto de Renda Mensal é: R$ 0.00\n"
     ]
    }
   ],
   "source": [
    "# Exercício do Imposto de Renda\n",
    "\n",
    "#Solicitar ao usuário que insira a renda mensal:\n",
    "renda_mensal = float(input('Digite sua renda mensal em reais: '))\n",
    "\n",
    "#Definir as faixas de renda mensal e as alíquotas correspondentes\n",
    "faixas_de_renda_mensal = [2112.00, 2826.65, 3751.05, 4664.68]\n",
    "aliquotas_mensais = [0.075, 0.15, 0.225, 0.275]\n",
    "deducao_por_faixa = [158.40, 370.40, 651.73, 884.96]\n",
    "\n",
    "#Inicializar o imposto de renda\n",
    "imposto_de_renda_mensal = 0\n",
    "\n",
    "#Verificar em qual faixa de renda mensal a pessoa se encontra\n",
    "if renda_mensal <= faixas_de_renda_mensal[0]:\n",
    "    imposto_de_renda_mensal = 0\n",
    "elif renda_mensal <= faixas_de_renda_mensal[1]:\n",
    "    imposto_de_renda_mensal = renda_mensal * aliquotas_mensais[0] - deducao_por_faixa[0]\n",
    "elif renda_mensal <= faixas_de_renda_mensal[2]:    \n",
    "    imposto_de_renda_mensal = renda_mensal * aliquotas_mensais[1] - deducao_por_faixa[1]\n",
    "elif renda_mensal <= faixas_de_renda_mensal[3]:\n",
    "    imposto_de_renda_mensal = renda_mensal * aliquotas_mensais[2] - deducao_por_faixa[2]\n",
    "else:\n",
    "    imposto_de_renda_mensal = renda_mensal * aliquotas_mensais[3] - deducao_por_faixa[3]\n",
    "    \n",
    "#Imprimir o valor mensal do Imposto de Renda\n",
    "print(f\"Seu Imposto de Renda Mensal é: R$ {imposto_de_renda_mensal:.2f}\")\n",
    "      "
   ]
  },
  {
   "cell_type": "code",
   "execution_count": 39,
   "id": "ea032285",
   "metadata": {},
   "outputs": [
    {
     "name": "stdout",
     "output_type": "stream",
     "text": [
      "Adivinhe um valor do ponto no eixo X0\n",
      "Adivinhe um valor do ponto no eixo Y1\n",
      "O ponto pertence ao quadrado\n"
     ]
    }
   ],
   "source": [
    "#Exemplo do quadrado: precisa adivinhar um ponto x e y no plano cartesiano que pertença ao quadrado A(0,0) B(1,0) C(1,1) D(0,1)\n",
    "#Se acertar, mensagem dizendo que o ponto pertence ao quadrado, senão que o ponto não pertence\n",
    "\n",
    "\n",
    "X = float(input('Adivinhe um valor do ponto no eixo X'))\n",
    "Y = float(input('Adivinhe um valor do ponto no eixo Y'))\n",
    "\n",
    "if (0 <= X) and (X <= 1) and (0 <= Y) and (Y <= 1):\n",
    "    print('O ponto pertence ao quadrado')\n",
    "else:\n",
    "    print('O ponto não pertence ao quadrado')"
   ]
  },
  {
   "cell_type": "code",
   "execution_count": 22,
   "id": "6b4c03ef",
   "metadata": {},
   "outputs": [
    {
     "name": "stdout",
     "output_type": "stream",
     "text": [
      "Banana está na lista de frutas\n",
      "Morango não está na lista de frutas\n",
      "A palavra Python está na frase\n",
      "A palavra Java não está na frase\n"
     ]
    }
   ],
   "source": [
    "# Exemplo com operadores de associação e de identidade\n",
    "# Exemplo com lista\n",
    "frutas = ['maça', 'banana', 'laranja', 'uva']\n",
    "\n",
    "if 'banana'in frutas:\n",
    "    print('Banana está na lista de frutas')\n",
    "if 'morango' not in frutas:\n",
    "    print('Morango não está na lista de frutas')\n",
    "\n",
    "# Exemplo com string\n",
    "frase = 'Python é uma linguagem de programação poderosa.'\n",
    "\n",
    "if 'Python' in frase:\n",
    "    print('A palavra Python está na frase')\n",
    "if 'Java' not in frase:\n",
    "    print('A palavra Java não está na frase')"
   ]
  },
  {
   "cell_type": "code",
   "execution_count": 24,
   "id": "dd679a5d",
   "metadata": {},
   "outputs": [
    {
     "name": "stdout",
     "output_type": "stream",
     "text": [
      "Maria está na lista de contatos com o e-mail maria@email.com\n",
      "Carlos não está na lista de contatos.\n"
     ]
    }
   ],
   "source": [
    "#Criando um dicionário de contatos\n",
    "\n",
    "contatos = {\n",
    "    'João': 'joao@email.com',\n",
    "    'Maria': 'maria@email.com',\n",
    "    'Pedro': 'pedro@gmail.com'\n",
    "}\n",
    "\n",
    "#Verificando se uma chave está presente no dicionário\n",
    "nome = 'Maria'\n",
    "\n",
    "if nome in contatos:\n",
    "    print(f'{nome} está na lista de contatos com o e-mail {contatos[nome]}')\n",
    "else:\n",
    "    print(f'{nome} não está na lista de contatos.')\n",
    "    \n",
    "nome = 'Carlos'\n",
    "if nome not in contatos:\n",
    "    print(f'{nome} não está na lista de contatos.')"
   ]
  },
  {
   "cell_type": "code",
   "execution_count": 30,
   "id": "20425b6d",
   "metadata": {},
   "outputs": [
    {
     "name": "stdout",
     "output_type": "stream",
     "text": [
      "False\n",
      "lista1 e lista2 têm identidades diferentes.\n",
      "True\n",
      "lista1 e lista2 têm o mesmo conteúdo.\n",
      "True\n"
     ]
    }
   ],
   "source": [
    "#Usando operadores de identidade\n",
    "#Criando duas listas com o mesmo conteúdo\n",
    "\n",
    "lista1 = [1, 2, 3]\n",
    "lista2 = [1, 2, 3]\n",
    "\n",
    "#Verificando se as duas listas têm a mesma identidade\n",
    "print(lista1 is lista2)\n",
    "if lista1 is lista2:\n",
    "    print('lista1 e lista2 têm a mesma identidade.')\n",
    "else:\n",
    "    print('lista1 e lista2 têm identidades diferentes.')\n",
    "    \n",
    "#Verificando se as duas listas têm conteudo igual\n",
    "print(lista1 == lista2)\n",
    "if lista1 == lista2:\n",
    "    print('lista1 e lista2 têm o mesmo conteúdo.')\n",
    "else:\n",
    "    print('lista1 e lista2 têm conteúdo diferente.')\n",
    "\n",
    "#Tornando as 2 a mesma coisa\n",
    "lista1 = lista2\n",
    "print(lista1 is lista2)"
   ]
  },
  {
   "cell_type": "markdown",
   "id": "dd7b163c",
   "metadata": {},
   "source": [
    "https://www.w3schools.com/python/python_conditions.asp"
   ]
  }
 ],
 "metadata": {
  "kernelspec": {
   "display_name": "Python 3 (ipykernel)",
   "language": "python",
   "name": "python3"
  },
  "language_info": {
   "codemirror_mode": {
    "name": "ipython",
    "version": 3
   },
   "file_extension": ".py",
   "mimetype": "text/x-python",
   "name": "python",
   "nbconvert_exporter": "python",
   "pygments_lexer": "ipython3",
   "version": "3.11.4"
  }
 },
 "nbformat": 4,
 "nbformat_minor": 5
}
