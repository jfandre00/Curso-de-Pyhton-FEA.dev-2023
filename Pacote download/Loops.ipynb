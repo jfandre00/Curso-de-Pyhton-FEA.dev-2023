{
 "cells": [
  {
   "cell_type": "markdown",
   "id": "8d0f6666",
   "metadata": {},
   "source": [
    "Loos são estruturas de controle que permitem que você execute um bloco de código repetidamente."
   ]
  },
  {
   "cell_type": "code",
   "execution_count": 2,
   "id": "3df69962",
   "metadata": {},
   "outputs": [
    {
     "name": "stdout",
     "output_type": "stream",
     "text": [
      "0\n",
      "1\n",
      "2\n",
      "3\n",
      "4\n",
      "5\n"
     ]
    }
   ],
   "source": [
    "#Print de numeros de 0 até 5\n",
    "print(0)\n",
    "print(1)\n",
    "print(2)\n",
    "print(3)\n",
    "print(4)\n",
    "print(5)\n"
   ]
  },
  {
   "cell_type": "markdown",
   "id": "ff167c01",
   "metadata": {},
   "source": [
    "PseudoCode: WHILE\n",
    "    **enquanto condição verídica      ----->         while condição:\n",
    "            **código a ser executado em repetição        código a ser executado em repetição"
   ]
  },
  {
   "cell_type": "code",
   "execution_count": 3,
   "id": "b25d1334",
   "metadata": {},
   "outputs": [
    {
     "ename": "SyntaxError",
     "evalue": "invalid syntax (3006804756.py, line 1)",
     "output_type": "error",
     "traceback": [
      "\u001b[1;36m  Cell \u001b[1;32mIn[3], line 1\u001b[1;36m\u001b[0m\n\u001b[1;33m    while 3 > 2:  ou while TRUE\u001b[0m\n\u001b[1;37m                     ^\u001b[0m\n\u001b[1;31mSyntaxError\u001b[0m\u001b[1;31m:\u001b[0m invalid syntax\n"
     ]
    }
   ],
   "source": [
    "while 3 > 2:  ou while TRUE:\n",
    "    print('Olá') - isso printaria Olá infinitamente"
   ]
  },
  {
   "cell_type": "code",
   "execution_count": 7,
   "id": "be9006fc",
   "metadata": {},
   "outputs": [
    {
     "name": "stdout",
     "output_type": "stream",
     "text": [
      "você está gostando do curso?nao\n",
      "Que pena\n"
     ]
    }
   ],
   "source": [
    "while True:\n",
    "    resposta = input(\"você está gostando do curso?\").lower()\n",
    "    #if resposta == \"sim\" or resposta == \"s\":\n",
    "    #a condição começa a ficar complicada então faremos uma lista de respostas abaixo:\n",
    "    if resposta in [\"sim\", \"s\"]:\n",
    "        print(\"Que ótimo\")\n",
    "        break\n",
    "    #elif resposta == \"não\":\n",
    "    elif resposta in [\"não\", \"n\", \"nao\"]:\n",
    "        print(\"Que pena\")\n",
    "        break\n",
    "        "
   ]
  },
  {
   "cell_type": "code",
   "execution_count": 10,
   "id": "6cc757ee",
   "metadata": {},
   "outputs": [
    {
     "name": "stdout",
     "output_type": "stream",
     "text": [
      "0\n",
      "1\n",
      "2\n",
      "3\n",
      "4\n",
      "5\n"
     ]
    }
   ],
   "source": [
    "#Print de números de 0 a 5 com WHILE\n",
    "contador = 0\n",
    "while contador < 6:  #pode usar <= 5 tbm\n",
    "    print(contador)\n",
    "    #contador = contador + 1 **podemos deixar mais eficiente abaixo:\n",
    "    contador += 1"
   ]
  },
  {
   "cell_type": "markdown",
   "id": "624338f5",
   "metadata": {},
   "source": [
    "PseudoCode: FOR\n",
    "para cada elemento em uma sequência:\n",
    "    código a ser executado para cada elemento\n",
    "    \n",
    "    for elemento in sequencia:\n",
    "        código a ser executado para cada elemento"
   ]
  },
  {
   "cell_type": "code",
   "execution_count": 12,
   "id": "d8a6e1e9",
   "metadata": {},
   "outputs": [
    {
     "name": "stdout",
     "output_type": "stream",
     "text": [
      "0\n",
      "1\n",
      "2\n",
      "3\n",
      "4\n",
      "6\n"
     ]
    }
   ],
   "source": [
    "#Print de números de 0 até 5 com FOR\n",
    "\n",
    "num = [0, 1, 2, 3, 4, 6]\n",
    "#for numero in 0, 1, 2, 3, 4, 5: PODEMOS TRANSFORMAR EM UMA LISTA\n",
    "for numero in num:\n",
    "    print(numero)"
   ]
  },
  {
   "cell_type": "code",
   "execution_count": 14,
   "id": "8bc61492",
   "metadata": {},
   "outputs": [
    {
     "name": "stdout",
     "output_type": "stream",
     "text": [
      "0\n",
      "1\n",
      "2\n",
      "3\n",
      "4\n",
      "5\n"
     ]
    }
   ],
   "source": [
    "# mais eficiente ainda com a função range() #cria lista de 0 até (1-o número que está entre parênteses) range(2,6) = 2,3,4,5\n",
    "# range (2, 6, 2)  = comeca no 2, vai até o 5 (6-1), adicionando de 2 em 2 => 2, 4\n",
    "for numero in range(6):\n",
    "    print(numero)"
   ]
  },
  {
   "cell_type": "code",
   "execution_count": 20,
   "id": "43aea041",
   "metadata": {},
   "outputs": [
    {
     "name": "stdout",
     "output_type": "stream",
     "text": [
      "Meu nome é Alice e tenho 25 anos\n",
      "Meu nome é Bob e tenho 30 anos\n",
      "Meu nome é Charlie e tenho 35 anos\n"
     ]
    }
   ],
   "source": [
    "# zip - pega as 2 listas e transforma em tuplas\n",
    "nomes = [\"Alice\", \"Bob\", \"Charlie\"]\n",
    "idades = [25, 30, 35]\n",
    "for nome, idade in zip(nomes, idades):\n",
    "    print(f\"Meu nome é {nome} e tenho {idade} anos\")\n",
    "    "
   ]
  },
  {
   "cell_type": "code",
   "execution_count": 24,
   "id": "0b9f1f6d",
   "metadata": {},
   "outputs": [
    {
     "name": "stdout",
     "output_type": "stream",
     "text": [
      "Alice\n",
      "Bob\n",
      "Charlie\n"
     ]
    }
   ],
   "source": [
    "# Iterar um dicionário {key: value}\n",
    "pessoas = dict(zip(nomes, idades))\n",
    "pessoas\n",
    "\n",
    "for chave, valor in pessoas.items():\n",
    "    print(chave)"
   ]
  },
  {
   "cell_type": "code",
   "execution_count": 27,
   "id": "09773580",
   "metadata": {},
   "outputs": [
    {
     "name": "stdout",
     "output_type": "stream",
     "text": [
      "0\n",
      "1\n",
      "2\n"
     ]
    }
   ],
   "source": [
    "# enumerate\n",
    "frutas = [\"maçã\", \"banana\", \"laranja\"]\n",
    "\n",
    "for indice in range(len(frutas)):\n",
    "    print(indice)"
   ]
  },
  {
   "cell_type": "code",
   "execution_count": 29,
   "id": "7a0f1451",
   "metadata": {},
   "outputs": [
    {
     "name": "stdout",
     "output_type": "stream",
     "text": [
      "O índice é 0 e a fruta é maçã\n",
      "O índice é 1 e a fruta é banana\n",
      "O índice é 2 e a fruta é laranja\n"
     ]
    }
   ],
   "source": [
    "for indice, fruta in enumerate(frutas):\n",
    "    print(f\"O índice é {indice} e a fruta é {fruta}\")"
   ]
  },
  {
   "cell_type": "code",
   "execution_count": 31,
   "id": "d9d17e5f",
   "metadata": {},
   "outputs": [
    {
     "name": "stdout",
     "output_type": "stream",
     "text": [
      "0\n",
      "1\n",
      "2\n",
      "3\n",
      "4\n",
      "5\n"
     ]
    }
   ],
   "source": [
    "#  set - tira os números repetidos\n",
    "nums = [0, 1, 1, 2, 3, 4, 4, 4, 5]\n",
    "for num in set(nums):\n",
    "    print(num)"
   ]
  },
  {
   "cell_type": "markdown",
   "id": "6c1633a6",
   "metadata": {},
   "source": [
    "Desafio do Mário\n",
    "Fazer uma pirâmide do Mário com \"#\" e com o input do usuário\n",
    "Exemplo output:\n",
    "  #   (2 espaços + 1 hashtag)\n",
    " ##   (1 espaço + 2 hashtag)\n",
    "###  (0 espaços + 3 hashtag)\n",
    "tem que ter os espaços antes \n",
    "o input tem que ser maior que 1 \n"
   ]
  },
  {
   "cell_type": "code",
   "execution_count": 38,
   "id": "f2459367",
   "metadata": {},
   "outputs": [
    {
     "name": "stdout",
     "output_type": "stream",
     "text": [
      "Insira a altura da pirâmide do Mário: 8\n",
      "        #\n",
      "       ##\n",
      "      ###\n",
      "     ####\n",
      "    #####\n",
      "   ######\n",
      "  #######\n",
      " ########\n"
     ]
    }
   ],
   "source": [
    "n = int(input('Insira a altura da pirâmide do Mário: '))\n",
    "if n <= 1:\n",
    "    print('Não dá pra fazer pirâmide com tão pouca altura!!!')\n",
    "else:\n",
    "    i = 1\n",
    "    while n > 0:\n",
    "        print(' '*(n-1), '#'*i)\n",
    "        i = i + 1\n",
    "        n = n - 1"
   ]
  },
  {
   "cell_type": "markdown",
   "id": "ee3d9f34",
   "metadata": {},
   "source": [
    "Correção do professor abaixo:"
   ]
  },
  {
   "cell_type": "code",
   "execution_count": 1,
   "id": "dc72bcf3",
   "metadata": {},
   "outputs": [
    {
     "name": "stdout",
     "output_type": "stream",
     "text": [
      "Tamanho da pirâmide: 12\n",
      "           #\n",
      "          ##\n",
      "         ###\n",
      "        ####\n",
      "       #####\n",
      "      ######\n",
      "     #######\n",
      "    ########\n",
      "   #########\n",
      "  ##########\n",
      " ###########\n",
      "############\n"
     ]
    }
   ],
   "source": [
    "x = int(input('Tamanho da pirâmide: '))\n",
    "for i in range(1, x + 1):\n",
    "    x -= 1\n",
    "    print(' ' *x, end='')\n",
    "    print('#' * i)"
   ]
  },
  {
   "cell_type": "markdown",
   "id": "1a338f72",
   "metadata": {},
   "source": [
    "Agora o desafio é fazer uma pirâmide na esquerda, pular 2 espaços e fazer ela espelhada"
   ]
  },
  {
   "cell_type": "code",
   "execution_count": 3,
   "id": "4a0aa5a9",
   "metadata": {},
   "outputs": [
    {
     "name": "stdout",
     "output_type": "stream",
     "text": [
      "Insira a altura da pirâmide do Mário: 19\n",
      "                   #    #                   \n",
      "                  ##    ##                  \n",
      "                 ###    ###                 \n",
      "                ####    ####                \n",
      "               #####    #####               \n",
      "              ######    ######              \n",
      "             #######    #######             \n",
      "            ########    ########            \n",
      "           #########    #########           \n",
      "          ##########    ##########          \n",
      "         ###########    ###########         \n",
      "        ############    ############        \n",
      "       #############    #############       \n",
      "      ##############    ##############      \n",
      "     ###############    ###############     \n",
      "    ################    ################    \n",
      "   #################    #################   \n",
      "  ##################    ##################  \n",
      " ###################    ################### \n"
     ]
    }
   ],
   "source": [
    "numeral = int(input('Insira a altura da pirâmide do Mário: '))\n",
    "if numeral <= 1:\n",
    "    print('Não dá pra fazer pirâmide com tão pouca altura!!!')\n",
    "else:\n",
    "    c = 1\n",
    "    while numeral > 0:\n",
    "        print(' '*(numeral-1), '#'*c, '  ', '#'*c, ' '*(numeral-1))\n",
    "        c = c + 1\n",
    "        numeral = numeral - 1"
   ]
  },
  {
   "cell_type": "markdown",
   "id": "f41267b7",
   "metadata": {},
   "source": [
    "Solução do professor abaixo:"
   ]
  },
  {
   "cell_type": "code",
   "execution_count": 1,
   "id": "57ff6714",
   "metadata": {},
   "outputs": [
    {
     "name": "stdout",
     "output_type": "stream",
     "text": [
      "Tamanho da pirâmide: 20\n",
      "                   #  #                   \n",
      "                  ##  ##                  \n",
      "                 ###  ###                 \n",
      "                ####  ####                \n",
      "               #####  #####               \n",
      "              ######  ######              \n",
      "             #######  #######             \n",
      "            ########  ########            \n",
      "           #########  #########           \n",
      "          ##########  ##########          \n",
      "         ###########  ###########         \n",
      "        ############  ############        \n",
      "       #############  #############       \n",
      "      ##############  ##############      \n",
      "     ###############  ###############     \n",
      "    ################  ################    \n",
      "   #################  #################   \n",
      "  ##################  ##################  \n",
      " ###################  ################### \n",
      "####################  ####################\n"
     ]
    }
   ],
   "source": [
    "x = int(input('Tamanho da pirâmide: '))\n",
    "for i in range(1, x + 1):\n",
    "    x -= 1\n",
    "    print(' ' * x, end='')\n",
    "    print('#' * i, end='')\n",
    "    print('  ', end='')\n",
    "    print('#' * i, end='')\n",
    "    print(' ' * x)"
   ]
  },
  {
   "cell_type": "code",
   "execution_count": null,
   "id": "c8a35f87",
   "metadata": {},
   "outputs": [],
   "source": []
  }
 ],
 "metadata": {
  "kernelspec": {
   "display_name": "Python 3 (ipykernel)",
   "language": "python",
   "name": "python3"
  },
  "language_info": {
   "codemirror_mode": {
    "name": "ipython",
    "version": 3
   },
   "file_extension": ".py",
   "mimetype": "text/x-python",
   "name": "python",
   "nbconvert_exporter": "python",
   "pygments_lexer": "ipython3",
   "version": "3.11.4"
  }
 },
 "nbformat": 4,
 "nbformat_minor": 5
}
