{
 "cells": [
  {
   "cell_type": "code",
   "execution_count": null,
   "metadata": {},
   "outputs": [],
   "source": [
    "Numpy - são martrizes\n",
    "ocupa menos memória do computador\n",
    "amplamente utilizado na análise de dados\n",
    "serve para modelagens, processamento de imagens\n",
    "\n",
    "1. Instalando o Numpy\n",
    "\n"
   ]
  },
  {
   "cell_type": "code",
   "execution_count": 2,
   "metadata": {},
   "outputs": [
    {
     "name": "stdout",
     "output_type": "stream",
     "text": [
      "Collecting numpy\n",
      "  Obtaining dependency information for numpy from https://files.pythonhosted.org/packages/82/0f/3f712cd84371636c5375d2dd70e7514d264cec6bdfc3d7997a4236e9f948/numpy-1.26.1-cp311-cp311-win_amd64.whl.metadata\n",
      "  Downloading numpy-1.26.1-cp311-cp311-win_amd64.whl.metadata (61 kB)\n",
      "     ---------------------------------------- 0.0/61.2 kB ? eta -:--:--\n",
      "     ------ --------------------------------- 10.2/61.2 kB ? eta -:--:--\n",
      "     ------------ ------------------------- 20.5/61.2 kB 217.9 kB/s eta 0:00:01\n",
      "     ------------------------------- ------ 51.2/61.2 kB 375.8 kB/s eta 0:00:01\n",
      "     -------------------------------------- 61.2/61.2 kB 361.4 kB/s eta 0:00:00\n",
      "Downloading numpy-1.26.1-cp311-cp311-win_amd64.whl (15.8 MB)\n",
      "   ---------------------------------------- 0.0/15.8 MB ? eta -:--:--\n",
      "   ---------------------------------------- 0.2/15.8 MB 5.9 MB/s eta 0:00:03\n",
      "   - -------------------------------------- 0.4/15.8 MB 5.1 MB/s eta 0:00:04\n",
      "   - -------------------------------------- 0.7/15.8 MB 5.5 MB/s eta 0:00:03\n",
      "   -- ------------------------------------- 0.9/15.8 MB 5.7 MB/s eta 0:00:03\n",
      "   --- ------------------------------------ 1.2/15.8 MB 5.5 MB/s eta 0:00:03\n",
      "   --- ------------------------------------ 1.5/15.8 MB 6.1 MB/s eta 0:00:03\n",
      "   ---- ----------------------------------- 1.8/15.8 MB 5.8 MB/s eta 0:00:03\n",
      "   ----- ---------------------------------- 2.1/15.8 MB 5.9 MB/s eta 0:00:03\n",
      "   ----- ---------------------------------- 2.3/15.8 MB 5.8 MB/s eta 0:00:03\n",
      "   ------ --------------------------------- 2.7/15.8 MB 6.0 MB/s eta 0:00:03\n",
      "   ------- -------------------------------- 2.9/15.8 MB 5.9 MB/s eta 0:00:03\n",
      "   ------- -------------------------------- 3.2/15.8 MB 6.1 MB/s eta 0:00:03\n",
      "   -------- ------------------------------- 3.5/15.8 MB 6.0 MB/s eta 0:00:03\n",
      "   --------- ------------------------------ 3.7/15.8 MB 6.0 MB/s eta 0:00:03\n",
      "   ---------- ----------------------------- 4.0/15.8 MB 6.1 MB/s eta 0:00:02\n",
      "   ---------- ----------------------------- 4.3/15.8 MB 6.1 MB/s eta 0:00:02\n",
      "   ----------- ---------------------------- 4.6/15.8 MB 6.1 MB/s eta 0:00:02\n",
      "   ------------ --------------------------- 4.8/15.8 MB 6.1 MB/s eta 0:00:02\n",
      "   ------------- -------------------------- 5.1/15.8 MB 6.1 MB/s eta 0:00:02\n",
      "   ------------- -------------------------- 5.4/15.8 MB 6.1 MB/s eta 0:00:02\n",
      "   -------------- ------------------------- 5.5/15.8 MB 6.1 MB/s eta 0:00:02\n",
      "   -------------- ------------------------- 5.9/15.8 MB 6.1 MB/s eta 0:00:02\n",
      "   -------------- ------------------------- 5.9/15.8 MB 6.1 MB/s eta 0:00:02\n",
      "   --------------- ------------------------ 6.1/15.8 MB 5.8 MB/s eta 0:00:02\n",
      "   --------------- ------------------------ 6.3/15.8 MB 5.7 MB/s eta 0:00:02\n",
      "   ---------------- ----------------------- 6.5/15.8 MB 5.7 MB/s eta 0:00:02\n",
      "   ----------------- ---------------------- 6.8/15.8 MB 5.7 MB/s eta 0:00:02\n",
      "   ----------------- ---------------------- 7.0/15.8 MB 5.6 MB/s eta 0:00:02\n",
      "   ------------------ --------------------- 7.2/15.8 MB 5.7 MB/s eta 0:00:02\n",
      "   ------------------ --------------------- 7.5/15.8 MB 5.6 MB/s eta 0:00:02\n",
      "   ------------------- -------------------- 7.6/15.8 MB 5.6 MB/s eta 0:00:02\n",
      "   ------------------- -------------------- 7.8/15.8 MB 5.6 MB/s eta 0:00:02\n",
      "   -------------------- ------------------- 8.1/15.8 MB 5.6 MB/s eta 0:00:02\n",
      "   --------------------- ------------------ 8.3/15.8 MB 5.6 MB/s eta 0:00:02\n",
      "   --------------------- ------------------ 8.5/15.8 MB 5.6 MB/s eta 0:00:02\n",
      "   ---------------------- ----------------- 8.7/15.8 MB 5.5 MB/s eta 0:00:02\n",
      "   ---------------------- ----------------- 9.0/15.8 MB 5.6 MB/s eta 0:00:02\n",
      "   ----------------------- ---------------- 9.2/15.8 MB 5.5 MB/s eta 0:00:02\n",
      "   ----------------------- ---------------- 9.5/15.8 MB 5.5 MB/s eta 0:00:02\n",
      "   ------------------------ --------------- 9.7/15.8 MB 5.5 MB/s eta 0:00:02\n",
      "   ------------------------- -------------- 10.0/15.8 MB 5.5 MB/s eta 0:00:02\n",
      "   -------------------------- ------------- 10.3/15.8 MB 5.6 MB/s eta 0:00:01\n",
      "   -------------------------- ------------- 10.6/15.8 MB 5.7 MB/s eta 0:00:01\n",
      "   --------------------------- ------------ 10.9/15.8 MB 5.6 MB/s eta 0:00:01\n",
      "   ---------------------------- ----------- 11.2/15.8 MB 5.6 MB/s eta 0:00:01\n",
      "   ---------------------------- ----------- 11.4/15.8 MB 5.6 MB/s eta 0:00:01\n",
      "   ----------------------------- ---------- 11.7/15.8 MB 5.6 MB/s eta 0:00:01\n",
      "   ------------------------------ --------- 12.0/15.8 MB 5.7 MB/s eta 0:00:01\n",
      "   ------------------------------- -------- 12.3/15.8 MB 5.7 MB/s eta 0:00:01\n",
      "   -------------------------------- ------- 12.7/15.8 MB 5.6 MB/s eta 0:00:01\n",
      "   -------------------------------- ------- 12.9/15.8 MB 5.6 MB/s eta 0:00:01\n",
      "   --------------------------------- ------ 13.2/15.8 MB 5.6 MB/s eta 0:00:01\n",
      "   ---------------------------------- ----- 13.5/15.8 MB 5.7 MB/s eta 0:00:01\n",
      "   ---------------------------------- ----- 13.7/15.8 MB 5.6 MB/s eta 0:00:01\n",
      "   ----------------------------------- ---- 14.0/15.8 MB 5.7 MB/s eta 0:00:01\n",
      "   ------------------------------------ --- 14.3/15.8 MB 5.7 MB/s eta 0:00:01\n",
      "   ------------------------------------- -- 14.7/15.8 MB 5.7 MB/s eta 0:00:01\n",
      "   ------------------------------------- -- 14.9/15.8 MB 5.6 MB/s eta 0:00:01\n",
      "   -------------------------------------- - 15.2/15.8 MB 5.7 MB/s eta 0:00:01\n",
      "   ---------------------------------------  15.5/15.8 MB 5.7 MB/s eta 0:00:01\n",
      "   ---------------------------------------  15.7/15.8 MB 5.7 MB/s eta 0:00:01\n",
      "   ---------------------------------------  15.8/15.8 MB 5.7 MB/s eta 0:00:01\n",
      "   ---------------------------------------- 15.8/15.8 MB 5.6 MB/s eta 0:00:00\n",
      "Installing collected packages: numpy\n",
      "Successfully installed numpy-1.26.1\n",
      "Note: you may need to restart the kernel to use updated packages.\n"
     ]
    },
    {
     "name": "stderr",
     "output_type": "stream",
     "text": [
      "\n",
      "[notice] A new release of pip is available: 23.2.1 -> 23.3\n",
      "[notice] To update, run: python.exe -m pip install --upgrade pip\n"
     ]
    }
   ],
   "source": [
    "pip install numpy"
   ]
  },
  {
   "cell_type": "code",
   "execution_count": 4,
   "metadata": {},
   "outputs": [],
   "source": [
    "import numpy as np\n"
   ]
  },
  {
   "cell_type": "code",
   "execution_count": 4,
   "metadata": {},
   "outputs": [
    {
     "name": "stdout",
     "output_type": "stream",
     "text": [
      "['São Paulo' 'Rio de Janeiro' 'Belo Horizonte' 'Campo Grande' 'Vitória'\n",
      " 'Curitiba']\n",
      "[ 3.000e-01  1.390e+01  2.960e+01 -1.092e+02  9.840e+01  8.700e-03]\n",
      "[ 0 10 20 30 40 50]\n",
      "[False  True  True False  True  True]\n"
     ]
    }
   ],
   "source": [
    "# Criando arrays unidimensionais\n",
    "arr_str = np.array(['São Paulo', 'Rio de Janeiro', 'Belo Horizonte', 'Campo Grande', 'Vitória', 'Curitiba'])\n",
    "arr_float = np.array([0.3, 13.9, 29.6, -109.2, 98.4, 0.0087])\n",
    "arr_int = np.array([0, 10,  20, 30, 40, 50])\n",
    "arr_bool = np.array([False, True, True, False, True, True])\n",
    "\n",
    "print(arr_str)\n",
    "print(arr_float)\n",
    "print(arr_int)\n",
    "print(arr_bool)"
   ]
  },
  {
   "cell_type": "code",
   "execution_count": 5,
   "metadata": {},
   "outputs": [
    {
     "name": "stdout",
     "output_type": "stream",
     "text": [
      "<class 'numpy.ndarray'>\n",
      "<class 'numpy.ndarray'>\n",
      "<class 'numpy.ndarray'>\n",
      "<class 'numpy.ndarray'>\n"
     ]
    }
   ],
   "source": [
    "# verificando a estrutura dos arrays\n",
    "print(type(arr_str))\n",
    "print(type(arr_float))\n",
    "print(type(arr_int))\n",
    "print(type(arr_bool))"
   ]
  },
  {
   "cell_type": "code",
   "execution_count": 6,
   "metadata": {},
   "outputs": [
    {
     "data": {
      "text/plain": [
       "array(['FEA.dev', '0.3', '0', 'False'], dtype='<U32')"
      ]
     },
     "execution_count": 6,
     "metadata": {},
     "output_type": "execute_result"
    }
   ],
   "source": [
    "# criando um array com estrutura heterogênea\n",
    "arr_varios = np.array(['FEA.dev', 0.3, 0, False])\n",
    "arr_varios"
   ]
  },
  {
   "cell_type": "code",
   "execution_count": 8,
   "metadata": {},
   "outputs": [
    {
     "data": {
      "text/plain": [
       "array([ 2, 12, 22, 32, 42, 52])"
      ]
     },
     "execution_count": 8,
     "metadata": {},
     "output_type": "execute_result"
    }
   ],
   "source": [
    "# operacoes matemáticas\n",
    "arr_int += 1\n",
    "arr_int"
   ]
  },
  {
   "cell_type": "code",
   "execution_count": 9,
   "metadata": {},
   "outputs": [
    {
     "ename": "UFuncTypeError",
     "evalue": "ufunc 'add' did not contain a loop with signature matching types (dtype('<U32'), dtype('int32')) -> None",
     "output_type": "error",
     "traceback": [
      "\u001b[1;31m---------------------------------------------------------------------------\u001b[0m",
      "\u001b[1;31mUFuncTypeError\u001b[0m                            Traceback (most recent call last)",
      "\u001b[1;32mUntitled-1.ipynb Célula 8\u001b[0m line \u001b[0;36m1\n\u001b[1;32m----> <a href='vscode-notebook-cell:Untitled-1.ipynb?jupyter-notebook#X11sdW50aXRsZWQ%3D?line=0'>1</a>\u001b[0m arr_varios \u001b[39m+\u001b[39;49m\u001b[39m=\u001b[39;49m \u001b[39m1\u001b[39;49m\n",
      "\u001b[1;31mUFuncTypeError\u001b[0m: ufunc 'add' did not contain a loop with signature matching types (dtype('<U32'), dtype('int32')) -> None"
     ]
    }
   ],
   "source": [
    "arr_varios += 1"
   ]
  },
  {
   "cell_type": "markdown",
   "metadata": {},
   "source": [
    "Array vs Lista\n",
    "\n",
    "ambos armazenam dados, são mutáveis\n",
    "lista armazena dados heterogêneos enquanto array é homogêneo e instalado\n",
    "pq array?\n",
    "maior flexibilidade nos calculos matematicos\n",
    "mais velocidade\n",
    "menor armanezamento\n",
    "\n",
    "exemplo: media ponderada n1p1 + n2p2 + nnpn / n1 + n2 + nn\n",
    "\n"
   ]
  },
  {
   "cell_type": "code",
   "execution_count": 11,
   "metadata": {},
   "outputs": [],
   "source": [
    "notas = [2.0, 5.0, 9.0, 3.0, 7.0]\n",
    "pesos = [2, 1, 2, 5, 5]\n"
   ]
  },
  {
   "cell_type": "code",
   "execution_count": 13,
   "metadata": {},
   "outputs": [],
   "source": [
    "#a lista não permite fazer assim: (notas * pesos) / pesos - vai  dar erros\n",
    "#se somar notas + pesos vai concatenar as 2 listas em 1 só\n"
   ]
  },
  {
   "cell_type": "code",
   "execution_count": 16,
   "metadata": {},
   "outputs": [
    {
     "name": "stdout",
     "output_type": "stream",
     "text": [
      "5.133333333333334\n"
     ]
    }
   ],
   "source": [
    "#Metodo para calcular a média ponderada utilizando listas: list comprehension\n",
    "nota_final = sum(nota * peso for nota, peso in zip(notas,pesos)) / sum(pesos)\n",
    "print(nota_final)"
   ]
  },
  {
   "cell_type": "code",
   "execution_count": 18,
   "metadata": {},
   "outputs": [
    {
     "name": "stdout",
     "output_type": "stream",
     "text": [
      "[2. 5. 9. 3. 7.] [2 1 2 5 5]\n"
     ]
    }
   ],
   "source": [
    "#Calculando as medias ponderadas utilizando o Numpy\n",
    "##Convertendo as listas com notas em numpy arrays\n",
    "notas_array = np.array(notas)\n",
    "pesos_array = np.array(pesos)\n",
    "\n",
    "print(notas_array, pesos_array)"
   ]
  },
  {
   "cell_type": "code",
   "execution_count": 20,
   "metadata": {},
   "outputs": [
    {
     "data": {
      "text/plain": [
       "5.133333333333334"
      ]
     },
     "execution_count": 20,
     "metadata": {},
     "output_type": "execute_result"
    }
   ],
   "source": [
    "#Cálculo da nota final utilizando o Numpy\n",
    "(sum(notas_array*pesos_array))/sum(pesos_array)"
   ]
  },
  {
   "cell_type": "code",
   "execution_count": 22,
   "metadata": {},
   "outputs": [
    {
     "data": {
      "text/plain": [
       "array([ 3.,  6., 10.,  4.,  8.])"
      ]
     },
     "execution_count": 22,
     "metadata": {},
     "output_type": "execute_result"
    }
   ],
   "source": [
    "# É possivel realizar qualquer operação com numpy array, como soma\n",
    "notas_array + 1"
   ]
  },
  {
   "cell_type": "code",
   "execution_count": 24,
   "metadata": {},
   "outputs": [
    {
     "data": {
      "text/plain": [
       "array([1., 4., 8., 2., 6.])"
      ]
     },
     "execution_count": 24,
     "metadata": {},
     "output_type": "execute_result"
    }
   ],
   "source": [
    "#Subtração\n",
    "notas_array -1"
   ]
  },
  {
   "cell_type": "markdown",
   "metadata": {},
   "source": [
    "C R I A N D O  A R R A Y S  C O M  N U M P Y !!!!"
   ]
  },
  {
   "cell_type": "code",
   "execution_count": 7,
   "metadata": {},
   "outputs": [
    {
     "data": {
      "text/plain": [
       "array([0., 0., 0., 0., 0.])"
      ]
     },
     "execution_count": 7,
     "metadata": {},
     "output_type": "execute_result"
    }
   ],
   "source": [
    "#preenchida com zeros\n",
    "np.zeros(5)"
   ]
  },
  {
   "cell_type": "code",
   "execution_count": 8,
   "metadata": {},
   "outputs": [
    {
     "data": {
      "text/plain": [
       "array([1., 1., 1., 1., 1., 1., 1., 1., 1., 1.])"
      ]
     },
     "execution_count": 8,
     "metadata": {},
     "output_type": "execute_result"
    }
   ],
   "source": [
    "np.ones(10)"
   ]
  },
  {
   "cell_type": "code",
   "execution_count": 30,
   "metadata": {},
   "outputs": [
    {
     "data": {
      "text/plain": [
       "array([0., 0., 0.])"
      ]
     },
     "execution_count": 30,
     "metadata": {},
     "output_type": "execute_result"
    }
   ],
   "source": [
    "#Array vazio \n",
    "np.empty(3)"
   ]
  },
  {
   "cell_type": "code",
   "execution_count": 33,
   "metadata": {},
   "outputs": [
    {
     "data": {
      "text/plain": [
       "array([0, 1, 2, 3, 4, 5, 6, 7, 8, 9])"
      ]
     },
     "execution_count": 33,
     "metadata": {},
     "output_type": "execute_result"
    }
   ],
   "source": [
    "# Array sequencial, comeca em zero e exclui o ultimo valor\n",
    "np.arange(10)"
   ]
  },
  {
   "cell_type": "code",
   "execution_count": 35,
   "metadata": {},
   "outputs": [
    {
     "data": {
      "text/plain": [
       "array([ 0,  5, 10, 15])"
      ]
     },
     "execution_count": 35,
     "metadata": {},
     "output_type": "execute_result"
    }
   ],
   "source": [
    "#sequencial com inntervalos uniformemente espaçados\n",
    "np.arange(0, 20, 5)"
   ]
  },
  {
   "cell_type": "code",
   "execution_count": 37,
   "metadata": {},
   "outputs": [
    {
     "data": {
      "text/plain": [
       "array([ 0. ,  5.5, 11. , 16.5, 22. ])"
      ]
     },
     "execution_count": 37,
     "metadata": {},
     "output_type": "execute_result"
    }
   ],
   "source": [
    "#sequencial com valores que são espaçados linearmente em um intervalo especificado\n",
    "np.linspace(0, 22, num = 5)"
   ]
  },
  {
   "cell_type": "code",
   "execution_count": 39,
   "metadata": {},
   "outputs": [
    {
     "data": {
      "text/plain": [
       "array([[0.0038423 , 0.23195011, 0.06011911, 0.96803651],\n",
       "       [0.79107051, 0.53656184, 0.73610239, 0.41357417]])"
      ]
     },
     "execution_count": 39,
     "metadata": {},
     "output_type": "execute_result"
    }
   ],
   "source": [
    "#Array com valores aleatórios entre 0 e 1\n",
    "# 2 linhas e 4 colunas\n",
    "np.random.random((2,4))"
   ]
  },
  {
   "cell_type": "code",
   "execution_count": 9,
   "metadata": {},
   "outputs": [
    {
     "data": {
      "text/plain": [
       "array([[1., 0., 0., 0., 0., 0.],\n",
       "       [0., 1., 0., 0., 0., 0.],\n",
       "       [0., 0., 1., 0., 0., 0.],\n",
       "       [0., 0., 0., 1., 0., 0.],\n",
       "       [0., 0., 0., 0., 1., 0.],\n",
       "       [0., 0., 0., 0., 0., 1.]])"
      ]
     },
     "execution_count": 9,
     "metadata": {},
     "output_type": "execute_result"
    }
   ],
   "source": [
    "# Matriz Identidade\n",
    "np.identity(6)"
   ]
  },
  {
   "cell_type": "code",
   "execution_count": 43,
   "metadata": {},
   "outputs": [],
   "source": [
    "#Manipular Numpy Arrays\n",
    "#considere estes dois numpy arrays\n",
    "a =  np.array([5, 4, 3, 2, 1])\n",
    "b = np.array([10,  9, 8, 7, 6])"
   ]
  },
  {
   "cell_type": "code",
   "execution_count": 45,
   "metadata": {},
   "outputs": [
    {
     "data": {
      "text/plain": [
       "array([ 5,  4,  3,  2,  1, 10,  9,  8,  7,  6])"
      ]
     },
     "execution_count": 45,
     "metadata": {},
     "output_type": "execute_result"
    }
   ],
   "source": [
    "#Unir os dois arrays\n",
    "c = np.concatenate((a,b))\n",
    "c"
   ]
  },
  {
   "cell_type": "code",
   "execution_count": 47,
   "metadata": {},
   "outputs": [
    {
     "data": {
      "text/plain": [
       "array([ 1,  2,  3,  4,  5,  6,  7,  8,  9, 10])"
      ]
     },
     "execution_count": 47,
     "metadata": {},
     "output_type": "execute_result"
    }
   ],
   "source": [
    "#Colocar em ordem crescente\n",
    "c_crescente = np.sort(c)\n",
    "c_crescente"
   ]
  },
  {
   "cell_type": "code",
   "execution_count": 49,
   "metadata": {},
   "outputs": [
    {
     "data": {
      "text/plain": [
       "array([ 2,  4,  6,  8, 10])"
      ]
     },
     "execution_count": 49,
     "metadata": {},
     "output_type": "execute_result"
    }
   ],
   "source": [
    "#Filtrar os elementos divisíveis por 2\n",
    "c_crescente[c_crescente % 2 == 0]"
   ]
  },
  {
   "cell_type": "code",
   "execution_count": 51,
   "metadata": {},
   "outputs": [
    {
     "data": {
      "text/plain": [
       "array([10])"
      ]
     },
     "execution_count": 51,
     "metadata": {},
     "output_type": "execute_result"
    }
   ],
   "source": [
    "#filtrar os elementos divisiveis por 2 e por 5\n",
    "c_crescente[(c_crescente % 2 == 0) & (c_crescente % 5 == 0)]"
   ]
  },
  {
   "cell_type": "code",
   "execution_count": 53,
   "metadata": {},
   "outputs": [
    {
     "data": {
      "text/plain": [
       "array([0, 0, 3, 0, 0, 6, 0, 0, 9, 0])"
      ]
     },
     "execution_count": 53,
     "metadata": {},
     "output_type": "execute_result"
    }
   ],
   "source": [
    "#substituir elementos que não são divisiveis por 3 e pelo numero 0\n",
    "#aonde o resto da div por 3 for zero ele vai manter, no resto vai substituir por 0\n",
    "np.where(c_crescente % 3 == 0, c_crescente, 0)"
   ]
  },
  {
   "cell_type": "code",
   "execution_count": 2,
   "metadata": {},
   "outputs": [],
   "source": [
    "import time #medir eificiência"
   ]
  },
  {
   "cell_type": "code",
   "execution_count": 5,
   "metadata": {},
   "outputs": [
    {
     "name": "stdout",
     "output_type": "stream",
     "text": [
      "Result calculated in 0.0 minutes and 12.047314882278442 seconds\n"
     ]
    }
   ],
   "source": [
    "#Criar um array aleatória com 1 bilhão de elementos entre R$ 0 e R$ 1000\n",
    "#Esse array representa preço de fechamento de um portfólio de ativos da FEA.dev\n",
    "start_time = time.time()\n",
    "\n",
    "ativos_dev = np.random.randint(0,1001, size = 1_000_000_000)\n",
    "\n",
    "end_time = time.time()\n",
    "print(f'Result calculated in {(end_time - start_time)//60} minutes and {(end_time - start_time)%60} seconds')"
   ]
  },
  {
   "cell_type": "code",
   "execution_count": 6,
   "metadata": {},
   "outputs": [
    {
     "data": {
      "text/plain": [
       "1000000000"
      ]
     },
     "execution_count": 6,
     "metadata": {},
     "output_type": "execute_result"
    }
   ],
   "source": [
    "#verificar se realmente há um bilhao de elementos\n",
    "len(ativos_dev)"
   ]
  },
  {
   "cell_type": "code",
   "execution_count": 7,
   "metadata": {},
   "outputs": [
    {
     "ename": "MemoryError",
     "evalue": "",
     "output_type": "error",
     "traceback": [
      "\u001b[1;31m---------------------------------------------------------------------------\u001b[0m",
      "\u001b[1;31mMemoryError\u001b[0m                               Traceback (most recent call last)",
      "\u001b[1;32mc:\\Users\\jfand\\Jupyter Notebook\\aula - NumPy FEA.dev.ipynb Célula 35\u001b[0m line \u001b[0;36m4\n\u001b[0;32m      <a href='vscode-notebook-cell:/c%3A/Users/jfand/Jupyter%20Notebook/aula%20-%20NumPy%20FEA.dev.ipynb#X46sZmlsZQ%3D%3D?line=1'>2</a>\u001b[0m lista_teste \u001b[39m=\u001b[39m []\n\u001b[0;32m      <a href='vscode-notebook-cell:/c%3A/Users/jfand/Jupyter%20Notebook/aula%20-%20NumPy%20FEA.dev.ipynb#X46sZmlsZQ%3D%3D?line=2'>3</a>\u001b[0m \u001b[39mfor\u001b[39;00m i \u001b[39min\u001b[39;00m \u001b[39mrange\u001b[39m(\u001b[39m1_000_000_000\u001b[39m):\n\u001b[1;32m----> <a href='vscode-notebook-cell:/c%3A/Users/jfand/Jupyter%20Notebook/aula%20-%20NumPy%20FEA.dev.ipynb#X46sZmlsZQ%3D%3D?line=3'>4</a>\u001b[0m     lista_teste\u001b[39m.\u001b[39mappend(randint(\u001b[39m0\u001b[39m,\u001b[39m1001\u001b[39m))\n\u001b[0;32m      <a href='vscode-notebook-cell:/c%3A/Users/jfand/Jupyter%20Notebook/aula%20-%20NumPy%20FEA.dev.ipynb#X46sZmlsZQ%3D%3D?line=5'>6</a>\u001b[0m \u001b[39m#esperei quase 5 minutos e ainda não tinha acabado!!!!!!\u001b[39;00m\n",
      "\u001b[1;31mMemoryError\u001b[0m: "
     ]
    }
   ],
   "source": [
    "from random import randint\n",
    "lista_teste = []\n",
    "for i in range(1_000_000_000):\n",
    "    lista_teste.append(randint(0,1001))\n",
    "\n",
    "#esperei quase 13 minutos e ainda não tinha acabado!!!!!!"
   ]
  },
  {
   "cell_type": "code",
   "execution_count": 8,
   "metadata": {},
   "outputs": [
    {
     "data": {
      "text/plain": [
       "(1000000000,)"
      ]
     },
     "execution_count": 8,
     "metadata": {},
     "output_type": "execute_result"
    }
   ],
   "source": [
    "#verificar se realmente há um bilhão de elementos no array criado (shape)\n",
    "ativos_dev.shape"
   ]
  },
  {
   "cell_type": "code",
   "execution_count": 13,
   "metadata": {},
   "outputs": [
    {
     "data": {
      "text/plain": [
       "0"
      ]
     },
     "execution_count": 13,
     "metadata": {},
     "output_type": "execute_result"
    }
   ],
   "source": [
    "#encontrar o valor mínimo do array\n",
    "ativos_dev.min()"
   ]
  },
  {
   "cell_type": "code",
   "execution_count": 14,
   "metadata": {},
   "outputs": [
    {
     "data": {
      "text/plain": [
       "1000"
      ]
     },
     "execution_count": 14,
     "metadata": {},
     "output_type": "execute_result"
    }
   ],
   "source": [
    "#encontrar o valor máximo do array\n",
    "ativos_dev.max()"
   ]
  },
  {
   "cell_type": "code",
   "execution_count": 15,
   "metadata": {},
   "outputs": [
    {
     "data": {
      "text/plain": [
       "1772296598"
      ]
     },
     "execution_count": 15,
     "metadata": {},
     "output_type": "execute_result"
    }
   ],
   "source": [
    "#encontrar a soma do array\n",
    "ativos_dev.sum()"
   ]
  },
  {
   "cell_type": "code",
   "execution_count": 17,
   "metadata": {},
   "outputs": [
    {
     "name": "stdout",
     "output_type": "stream",
     "text": [
      "R$ 1,772,296,598.00\n"
     ]
    }
   ],
   "source": [
    "#dica: formatar o número da soma\n",
    "soma = ativos_dev.sum()\n",
    "print(f'R$ {soma:,.2f}')"
   ]
  },
  {
   "cell_type": "code",
   "execution_count": 19,
   "metadata": {},
   "outputs": [
    {
     "data": {
      "text/plain": [
       "499.988502934"
      ]
     },
     "execution_count": 19,
     "metadata": {},
     "output_type": "execute_result"
    }
   ],
   "source": [
    "#encontrar a média do array\n",
    "ativos_dev.mean()"
   ]
  },
  {
   "cell_type": "markdown",
   "metadata": {},
   "source": [
    "Compatibilidade entre Arrays\n",
    "precisam ter pelo menos o mesmo n. de colunas\n"
   ]
  },
  {
   "cell_type": "code",
   "execution_count": 21,
   "metadata": {},
   "outputs": [
    {
     "name": "stdout",
     "output_type": "stream",
     "text": [
      "(2, 5) (1, 5)\n"
     ]
    }
   ],
   "source": [
    "a = np.array([[1,2,3,4,5], [6,7,8,9,10]])\n",
    "b = np.array([[10,20,30,40,50]])\n",
    "\n",
    "print(a.shape, b.shape)"
   ]
  },
  {
   "cell_type": "code",
   "execution_count": 23,
   "metadata": {},
   "outputs": [
    {
     "data": {
      "text/plain": [
       "array([[11, 22, 33, 44, 55],\n",
       "       [16, 27, 38, 49, 60]])"
      ]
     },
     "execution_count": 23,
     "metadata": {},
     "output_type": "execute_result"
    }
   ],
   "source": [
    "#é possível realizar operacoes matematicas com arrays compatives, como a soma\n",
    "a + b"
   ]
  },
  {
   "cell_type": "code",
   "execution_count": 25,
   "metadata": {},
   "outputs": [
    {
     "data": {
      "text/plain": [
       "array([ 11,  33,  66, 110, 165, 181, 208, 246, 295, 355])"
      ]
     },
     "execution_count": 25,
     "metadata": {},
     "output_type": "execute_result"
    }
   ],
   "source": [
    "# A soma acumulada\n",
    "(a + b).cumsum()"
   ]
  },
  {
   "cell_type": "code",
   "execution_count": 28,
   "metadata": {},
   "outputs": [
    {
     "data": {
      "text/plain": [
       "array([        11,        242,       7986,     351384,   19326120,\n",
       "        309217920, -241050752, -569993984, 2135065856, -745067520])"
      ]
     },
     "execution_count": 28,
     "metadata": {},
     "output_type": "execute_result"
    }
   ],
   "source": [
    "# O produto acumulado\n",
    "(a + b).cumprod()"
   ]
  },
  {
   "cell_type": "code",
   "execution_count": 30,
   "metadata": {},
   "outputs": [
    {
     "data": {
      "text/plain": [
       "248.25"
      ]
     },
     "execution_count": 30,
     "metadata": {},
     "output_type": "execute_result"
    }
   ],
   "source": [
    "# a variância\n",
    "(a + b).var()"
   ]
  },
  {
   "cell_type": "code",
   "execution_count": 32,
   "metadata": {},
   "outputs": [
    {
     "data": {
      "text/plain": [
       "15.75595125658873"
      ]
     },
     "execution_count": 32,
     "metadata": {},
     "output_type": "execute_result"
    }
   ],
   "source": [
    "# desvio padrão\n",
    "(a + b).std()"
   ]
  },
  {
   "cell_type": "code",
   "execution_count": 34,
   "metadata": {},
   "outputs": [
    {
     "name": "stdout",
     "output_type": "stream",
     "text": [
      "(3, 5) (3, 3)\n"
     ]
    }
   ],
   "source": [
    "#Não compatibilidade entre arrays (3,5) e (3,3)\n",
    "c = np.array([[0,5,10,15,20], [0,10,20,30,40], [0,100,200,300,400]])\n",
    "d = np.array([[1,5,10], [2,7,9], [3,4,6]])\n",
    "\n",
    "print(c.shape, d.shape)"
   ]
  },
  {
   "cell_type": "code",
   "execution_count": 35,
   "metadata": {},
   "outputs": [
    {
     "ename": "ValueError",
     "evalue": "operands could not be broadcast together with shapes (3,5) (3,3) ",
     "output_type": "error",
     "traceback": [
      "\u001b[1;31m---------------------------------------------------------------------------\u001b[0m",
      "\u001b[1;31mValueError\u001b[0m                                Traceback (most recent call last)",
      "\u001b[1;32mUntitled-1.ipynb Célula 50\u001b[0m line \u001b[0;36m2\n\u001b[0;32m      <a href='vscode-notebook-cell:Untitled-1.ipynb?jupyter-notebook#Y104sdW50aXRsZWQ%3D?line=0'>1</a>\u001b[0m \u001b[39m#não é possível realizar operacoes matematicas com arrays nao compatives, como a subtracao\u001b[39;00m\n\u001b[1;32m----> <a href='vscode-notebook-cell:Untitled-1.ipynb?jupyter-notebook#Y104sdW50aXRsZWQ%3D?line=1'>2</a>\u001b[0m c \u001b[39m-\u001b[39;49md\n",
      "\u001b[1;31mValueError\u001b[0m: operands could not be broadcast together with shapes (3,5) (3,3) "
     ]
    }
   ],
   "source": [
    "#não é possível realizar operacoes matematicas com arrays nao compatives, como a subtracao\n",
    "c -d"
   ]
  },
  {
   "cell_type": "code",
   "execution_count": 36,
   "metadata": {},
   "outputs": [
    {
     "name": "stdout",
     "output_type": "stream",
     "text": [
      "(2, 1) (1, 2)\n"
     ]
    }
   ],
   "source": [
    "#logo, é possível concluir que arrays (2,1) e (1,2) não são iguais e sequer compatíveis\n",
    "\n",
    "e = np.array([[8], [16]])\n",
    "f = np.array([[8,16]])\n",
    "print(e.shape, f.shape)"
   ]
  },
  {
   "cell_type": "markdown",
   "metadata": {},
   "source": [
    "Dimensões de Numpy Array\n",
    ".flatten()\n",
    ".reshape()\n",
    "utilizade em manipular dimensões"
   ]
  },
  {
   "cell_type": "code",
   "execution_count": 38,
   "metadata": {},
   "outputs": [
    {
     "name": "stdout",
     "output_type": "stream",
     "text": [
      "[[ 1  7]\n",
      " [24 12]\n",
      " [80 33]\n",
      " [57 99]\n",
      " [ 6 60]] (5, 2)\n"
     ]
    }
   ],
   "source": [
    "# observe o array (5,2)\n",
    "\n",
    "g = np.array([[1,7], [24,12], [80,33], [57,99], [6,60]])\n",
    "print(g, g.shape)"
   ]
  },
  {
   "cell_type": "code",
   "execution_count": 40,
   "metadata": {},
   "outputs": [
    {
     "name": "stdout",
     "output_type": "stream",
     "text": [
      "[ 1  7 24 12 80 33 57 99  6 60] (10,)\n"
     ]
    }
   ],
   "source": [
    "# .flatten() recolhe todos os elementos em apenas uma dimensão\n",
    "\n",
    "g_flatten = g.flatten()\n",
    "print(g_flatten, g_flatten.shape)"
   ]
  },
  {
   "cell_type": "code",
   "execution_count": 43,
   "metadata": {},
   "outputs": [
    {
     "name": "stdout",
     "output_type": "stream",
     "text": [
      "[[ 1  7 24 12 80]\n",
      " [33 57 99  6 60]] (2, 5)\n"
     ]
    }
   ],
   "source": [
    "# .reshape() atribui nova dimensaop a um array sem modificar seus elementos\n",
    "\n",
    "g_reshape = g.reshape(2,5)\n",
    "\n",
    "print(g_reshape, g_reshape.shape)"
   ]
  },
  {
   "cell_type": "code",
   "execution_count": 45,
   "metadata": {},
   "outputs": [],
   "source": [
    "# é util caso se deseje realizar operações matemáticas com arrays incompatíveis\n",
    "\n",
    "e = np.array([[8], [16]]) # (2,1)\n",
    "f = np.array([[8,16]]) # (1,2)\n",
    "\n",
    "# .reshape() em algum dos arrays para os deixar compatíveis ao realizar a multiplicação"
   ]
  },
  {
   "cell_type": "code",
   "execution_count": 46,
   "metadata": {},
   "outputs": [
    {
     "data": {
      "text/plain": [
       "array([[ 64, 256]])"
      ]
     },
     "execution_count": 46,
     "metadata": {},
     "output_type": "execute_result"
    }
   ],
   "source": [
    "# optando pelo reshape no array 'e'\n",
    "e.reshape(1,2)* f"
   ]
  },
  {
   "cell_type": "markdown",
   "metadata": {},
   "source": [
    "Geradores Pseudoaleatórios\n",
    "import random\n",
    "numpy random"
   ]
  },
  {
   "cell_type": "code",
   "execution_count": 48,
   "metadata": {},
   "outputs": [
    {
     "name": "stdout",
     "output_type": "stream",
     "text": [
      "[-0.8153453886326092, -0.6332750325096062, -0.7699873357400113, 0.8702509454038116, 0.5431689399234423, 0.4101728710631007, -1.0018916397388038, 0.42538612090106875, -0.09534171840370262, -0.053542957279878914, 0.4503272415452014, -0.02506447238358911, -0.9385975160709882, 0.3256089533805671, 0.2622498763518953, 0.9956678613185984, 0.3907345842439219, -0.14021157542609602, 0.991148465108516, 1.2074632885872696, -1.1705083043777025, 0.34624826841388817, 3.0634787026158774, 1.2236397444688962, -0.11570155767486834, -0.5036558265797171, 3.2216902546087103, 0.7621083733164096, 0.7313624605616031, -0.08550974539977488, 0.15036835851605743, -0.31577085753160605, 1.1916294471247422, -2.9057086089711825, 0.6703697724953607, 0.8790506304265372, -0.16871066312853938, -0.4519645232756926, 0.04376755377352081, -0.9609976032792837, -1.9491927904918842, 0.8903958905091826, 0.7885130567761166, -0.784036785681631, 0.08314117473719596, 1.412435070239534, -0.7745773450946201, 0.39493901526203906, -0.7735322855908532, -1.1482236351701425, -1.3012182970656914, 1.1485459464404917, -0.029177832576237874, 0.9958575927000322, -0.3008561738032566, -0.4316421437827222, 0.14395624803881854, 0.3209720097939015, -0.9421494718909605, 1.1198110665256311, 0.0320077942142262, 1.2897405474015287, -1.5087119539700893, 0.030854703537083125, -0.9788301717231743, 0.6248218429986723, 1.8547700308479167, -0.5033886573791433, 1.4221497073176983, -0.9343872457020116, -0.10069261850031722, -0.7526736249136521, -0.5913090710534307, 0.9740218346568056, 1.6019003584227276, -0.38403634611384385, 1.0232745959198313, 2.000677228378691, 0.8089278130268832, 1.2435921745072513, -0.7030484623397085, 1.1664739334752767, 0.8156173983807896, 0.03144734473400652, -0.44311996818502325, -0.20074973145774655, -1.1710141901326536, -1.1050656293032721, 0.38783226649150976, 0.9292278047162326, -0.2284923034434733, 1.9763289095976053, 0.5990810284890808, -1.8893022653258957, -1.7570983284079047, -0.05356493131941202, 0.4677791046278191, -0.2856778078361011, 1.2189440074025115, 1.3419464419245286]\n"
     ]
    }
   ],
   "source": [
    "#utilizando o módulo random do python\n",
    "import random\n",
    "numeros = [random.gauss(0,1) for _ in range(100)]\n",
    "print(numeros)"
   ]
  },
  {
   "cell_type": "code",
   "execution_count": 50,
   "metadata": {},
   "outputs": [
    {
     "name": "stdout",
     "output_type": "stream",
     "text": [
      "[-2.17767452  0.73231249 -0.83437482 -2.69261558  0.40849342 -0.15712524\n",
      " -1.74419131  0.27001401  0.35142608  0.26226124 -0.01109558  0.42745148\n",
      "  1.52650143  0.42481801 -1.29113962  1.07566605 -0.68518804  0.63644597\n",
      "  1.55514501  1.13773748  0.68359393 -0.28891385 -0.33511938 -0.13257996\n",
      "  0.66185663  0.31531363  0.9819867  -0.34411459  0.34720854  1.00236398\n",
      "  0.35947322 -0.47258984  1.20099407 -0.22311043 -0.4123384  -1.76348464\n",
      "  0.10435895  1.20178228  0.90311019 -0.15716119  2.34782355 -1.44193802\n",
      "  0.48682354 -0.2795165   0.37963174  0.66867925  0.83068039  0.34305244\n",
      " -0.72793746 -0.61002005  1.8248921   1.08634608 -1.07314032 -0.0512534\n",
      " -1.32861291 -1.43646226 -0.03563809 -0.70897845 -0.42153392  0.10508457\n",
      "  0.09601397  2.41854572 -0.99814529  0.5314823  -0.6586929  -0.9112358\n",
      "  0.8592946   0.84200752 -0.55185582 -0.57979064 -1.3786519   0.91248272\n",
      " -0.20852471  0.82891191 -1.33464731  0.72884475 -0.18907167  2.80700039\n",
      " -1.44915615 -0.09952112  0.10063132 -0.59024115  0.15800054  2.54235947\n",
      "  0.47766437  0.93379803 -1.08181154  0.23318309  0.26863037  0.54746323\n",
      " -1.31810064  0.4950611  -1.49317445 -0.90006735 -0.59219358  0.30840518\n",
      " -0.32207513  1.05032584  0.44347288 -0.44153473]\n"
     ]
    }
   ],
   "source": [
    "# gere 100 numeros a partir de uma distribuicao normal\n",
    "numeros = np.random.normal(size=100)\n",
    "\n",
    "print(numeros)"
   ]
  },
  {
   "cell_type": "code",
   "execution_count": 52,
   "metadata": {},
   "outputs": [],
   "source": [
    "#considere a seguinte lista\n",
    "nomes = ['Ana', 'Gustavo', 'Thais', 'Natalia', 'Julio', 'Max', 'Felipe', 'Alan', 'Paulo', 'Maria', 'Maysa', 'Kevyn']"
   ]
  },
  {
   "cell_type": "code",
   "execution_count": 55,
   "metadata": {},
   "outputs": [
    {
     "data": {
      "text/plain": [
       "['Alan', 'Paulo', 'Maria']"
      ]
     },
     "execution_count": 55,
     "metadata": {},
     "output_type": "execute_result"
    }
   ],
   "source": [
    "import random\n",
    "random.sample(nomes,3)"
   ]
  },
  {
   "cell_type": "code",
   "execution_count": 56,
   "metadata": {},
   "outputs": [
    {
     "data": {
      "text/plain": [
       "array(['Max', 'Ana', 'Max'], dtype='<U7')"
      ]
     },
     "execution_count": 56,
     "metadata": {},
     "output_type": "execute_result"
    }
   ],
   "source": [
    "#numpy random\n",
    "#escolher aleatoriamente 3 numeros\n",
    "\n",
    "np.random.choice(nomes, size = 3)\n"
   ]
  }
 ],
 "metadata": {
  "kernelspec": {
   "display_name": "Python 3",
   "language": "python",
   "name": "python3"
  },
  "language_info": {
   "codemirror_mode": {
    "name": "ipython",
    "version": 3
   },
   "file_extension": ".py",
   "mimetype": "text/x-python",
   "name": "python",
   "nbconvert_exporter": "python",
   "pygments_lexer": "ipython3",
   "version": "3.11.5"
  }
 },
 "nbformat": 4,
 "nbformat_minor": 2
}
